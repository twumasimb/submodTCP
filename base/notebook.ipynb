{
 "cells": [
  {
   "cell_type": "code",
   "execution_count": 1,
   "metadata": {},
   "outputs": [
    {
     "data": {
      "text/plain": [
       "{'Coverage': {'order': [<test_prioritization.TestCase at 0x7f4739767200>,\n",
       "   <test_prioritization.TestCase at 0x7f47345a5280>,\n",
       "   <test_prioritization.TestCase at 0x7f47345a52e0>,\n",
       "   <test_prioritization.TestCase at 0x7f47345a5340>,\n",
       "   <test_prioritization.TestCase at 0x7f47341b4a70>,\n",
       "   <test_prioritization.TestCase at 0x7f47342a54f0>,\n",
       "   <test_prioritization.TestCase at 0x7f4734238290>,\n",
       "   <test_prioritization.TestCase at 0x7f47342382f0>,\n",
       "   <test_prioritization.TestCase at 0x7f4734238c50>,\n",
       "   <test_prioritization.TestCase at 0x7f4734238ce0>,\n",
       "   <test_prioritization.TestCase at 0x7f4734239670>,\n",
       "   <test_prioritization.TestCase at 0x7f4734239640>],\n",
       "  'metrics': {'APFD': 0.6083333333333333,\n",
       "   'FDR': 1.0,\n",
       "   'FDR_curve': [0.2, 0.4, 0.4, 0.4, 0.6, 0.6, 0.8, 0.8, 0.8, 0.8, 1.0, 1.0]}},\n",
       " 'Diversity': {'order': [<test_prioritization.TestCase at 0x7f47345a5280>,\n",
       "   <test_prioritization.TestCase at 0x7f4739767200>,\n",
       "   <test_prioritization.TestCase at 0x7f47345a52e0>,\n",
       "   <test_prioritization.TestCase at 0x7f47345a5340>,\n",
       "   <test_prioritization.TestCase at 0x7f4734239670>,\n",
       "   <test_prioritization.TestCase at 0x7f47341b4a70>,\n",
       "   <test_prioritization.TestCase at 0x7f4734239640>,\n",
       "   <test_prioritization.TestCase at 0x7f47342a54f0>,\n",
       "   <test_prioritization.TestCase at 0x7f4734238290>,\n",
       "   <test_prioritization.TestCase at 0x7f47342382f0>,\n",
       "   <test_prioritization.TestCase at 0x7f4734238c50>,\n",
       "   <test_prioritization.TestCase at 0x7f4734238ce0>],\n",
       "  'metrics': {'APFD': 0.6583333333333333,\n",
       "   'FDR': 1.0,\n",
       "   'FDR_curve': [0.2, 0.4, 0.4, 0.4, 0.6, 0.8, 0.8, 0.8, 1.0, 1.0, 1.0, 1.0]}},\n",
       " 'Combined': {'order': [<test_prioritization.TestCase at 0x7f4739767200>,\n",
       "   <test_prioritization.TestCase at 0x7f47345a5280>,\n",
       "   <test_prioritization.TestCase at 0x7f47345a52e0>,\n",
       "   <test_prioritization.TestCase at 0x7f47345a5340>,\n",
       "   <test_prioritization.TestCase at 0x7f4734239670>,\n",
       "   <test_prioritization.TestCase at 0x7f47341b4a70>,\n",
       "   <test_prioritization.TestCase at 0x7f4734239640>,\n",
       "   <test_prioritization.TestCase at 0x7f47342a54f0>,\n",
       "   <test_prioritization.TestCase at 0x7f4734238290>,\n",
       "   <test_prioritization.TestCase at 0x7f47342382f0>,\n",
       "   <test_prioritization.TestCase at 0x7f4734238c50>,\n",
       "   <test_prioritization.TestCase at 0x7f4734238ce0>],\n",
       "  'metrics': {'APFD': 0.6583333333333333,\n",
       "   'FDR': 1.0,\n",
       "   'FDR_curve': [0.2, 0.4, 0.4, 0.4, 0.6, 0.8, 0.8, 0.8, 1.0, 1.0, 1.0, 1.0]}}}"
      ]
     },
     "execution_count": 1,
     "metadata": {},
     "output_type": "execute_result"
    }
   ],
   "source": [
    "import pickle\n",
    "\n",
    "data = pickle.load(open('results.pkl', 'rb'))\n",
    "data"
   ]
  }
 ],
 "metadata": {
  "kernelspec": {
   "display_name": "torch",
   "language": "python",
   "name": "python3"
  },
  "language_info": {
   "codemirror_mode": {
    "name": "ipython",
    "version": 3
   },
   "file_extension": ".py",
   "mimetype": "text/x-python",
   "name": "python",
   "nbconvert_exporter": "python",
   "pygments_lexer": "ipython3",
   "version": "3.12.2"
  }
 },
 "nbformat": 4,
 "nbformat_minor": 2
}
